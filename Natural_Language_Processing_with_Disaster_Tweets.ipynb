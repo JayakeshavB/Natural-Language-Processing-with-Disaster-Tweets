{
  "cells": [
    {
      "cell_type": "code",
      "execution_count": 1,
      "metadata": {
        "colab": {
          "base_uri": "https://localhost:8080/"
        },
        "id": "agFBUjuT1tB-",
        "outputId": "010a05e1-dea2-46f9-dd3b-21a25d9e3f39"
      },
      "outputs": [
        {
          "output_type": "stream",
          "name": "stdout",
          "text": [
            "Mounted at /content/drive\n"
          ]
        }
      ],
      "source": [
        "from google.colab import drive\n",
        "drive.mount('/content/drive')"
      ]
    },
    {
      "cell_type": "code",
      "execution_count": 2,
      "metadata": {
        "colab": {
          "base_uri": "https://localhost:8080/"
        },
        "id": "O929tyL20gVO",
        "outputId": "42a35c7d-67bb-402a-e784-f134220abe89"
      },
      "outputs": [
        {
          "output_type": "stream",
          "name": "stdout",
          "text": [
            "[nltk_data] Downloading package stopwords to /root/nltk_data...\n",
            "[nltk_data]   Unzipping corpora/stopwords.zip.\n",
            "[nltk_data] Downloading package wordnet to /root/nltk_data...\n",
            "[nltk_data]   Unzipping corpora/wordnet.zip.\n"
          ]
        }
      ],
      "source": [
        "import numpy as np \n",
        "import pandas as pd \n",
        "import matplotlib.pyplot as plt\n",
        "import seaborn as sns\n",
        "from sklearn.model_selection import train_test_split\n",
        "import random\n",
        "from bs4 import BeautifulSoup\n",
        "import re\n",
        "import nltk\n",
        "nltk.download('stopwords')\n",
        "nltk.download('wordnet')\n",
        "from nltk.corpus import stopwords\n",
        "from nltk.stem import WordNetLemmatizer\n",
        "from nltk.tokenize import TweetTokenizer\n",
        "from sklearn.feature_extraction.text import CountVectorizer\n",
        "from sklearn.feature_extraction.text import TfidfTransformer\n",
        "from sklearn.feature_extraction.text import TfidfVectorizer\n",
        "from gensim.models import Word2Vec\n",
        "from gensim.models import KeyedVectors\n",
        "from scipy.sparse import hstack\n",
        "from tqdm import tqdm\n",
        "\n",
        "%matplotlib inline"
      ]
    },
    {
      "cell_type": "code",
      "execution_count": 3,
      "metadata": {
        "colab": {
          "base_uri": "https://localhost:8080/",
          "height": 206
        },
        "id": "q6mGqhrL0gVO",
        "outputId": "902735c8-b063-4149-b142-d2753857fddb"
      },
      "outputs": [
        {
          "output_type": "execute_result",
          "data": {
            "text/html": [
              "\n",
              "  <div id=\"df-84f685ab-5733-476b-b310-27b810f69b24\">\n",
              "    <div class=\"colab-df-container\">\n",
              "      <div>\n",
              "<style scoped>\n",
              "    .dataframe tbody tr th:only-of-type {\n",
              "        vertical-align: middle;\n",
              "    }\n",
              "\n",
              "    .dataframe tbody tr th {\n",
              "        vertical-align: top;\n",
              "    }\n",
              "\n",
              "    .dataframe thead th {\n",
              "        text-align: right;\n",
              "    }\n",
              "</style>\n",
              "<table border=\"1\" class=\"dataframe\">\n",
              "  <thead>\n",
              "    <tr style=\"text-align: right;\">\n",
              "      <th></th>\n",
              "      <th>id</th>\n",
              "      <th>keyword</th>\n",
              "      <th>location</th>\n",
              "      <th>text</th>\n",
              "      <th>target</th>\n",
              "    </tr>\n",
              "  </thead>\n",
              "  <tbody>\n",
              "    <tr>\n",
              "      <th>0</th>\n",
              "      <td>1</td>\n",
              "      <td>NaN</td>\n",
              "      <td>NaN</td>\n",
              "      <td>Our Deeds are the Reason of this #earthquake M...</td>\n",
              "      <td>1</td>\n",
              "    </tr>\n",
              "    <tr>\n",
              "      <th>1</th>\n",
              "      <td>4</td>\n",
              "      <td>NaN</td>\n",
              "      <td>NaN</td>\n",
              "      <td>Forest fire near La Ronge Sask. Canada</td>\n",
              "      <td>1</td>\n",
              "    </tr>\n",
              "    <tr>\n",
              "      <th>2</th>\n",
              "      <td>5</td>\n",
              "      <td>NaN</td>\n",
              "      <td>NaN</td>\n",
              "      <td>All residents asked to 'shelter in place' are ...</td>\n",
              "      <td>1</td>\n",
              "    </tr>\n",
              "    <tr>\n",
              "      <th>3</th>\n",
              "      <td>6</td>\n",
              "      <td>NaN</td>\n",
              "      <td>NaN</td>\n",
              "      <td>13,000 people receive #wildfires evacuation or...</td>\n",
              "      <td>1</td>\n",
              "    </tr>\n",
              "    <tr>\n",
              "      <th>4</th>\n",
              "      <td>7</td>\n",
              "      <td>NaN</td>\n",
              "      <td>NaN</td>\n",
              "      <td>Just got sent this photo from Ruby #Alaska as ...</td>\n",
              "      <td>1</td>\n",
              "    </tr>\n",
              "  </tbody>\n",
              "</table>\n",
              "</div>\n",
              "      <button class=\"colab-df-convert\" onclick=\"convertToInteractive('df-84f685ab-5733-476b-b310-27b810f69b24')\"\n",
              "              title=\"Convert this dataframe to an interactive table.\"\n",
              "              style=\"display:none;\">\n",
              "        \n",
              "  <svg xmlns=\"http://www.w3.org/2000/svg\" height=\"24px\"viewBox=\"0 0 24 24\"\n",
              "       width=\"24px\">\n",
              "    <path d=\"M0 0h24v24H0V0z\" fill=\"none\"/>\n",
              "    <path d=\"M18.56 5.44l.94 2.06.94-2.06 2.06-.94-2.06-.94-.94-2.06-.94 2.06-2.06.94zm-11 1L8.5 8.5l.94-2.06 2.06-.94-2.06-.94L8.5 2.5l-.94 2.06-2.06.94zm10 10l.94 2.06.94-2.06 2.06-.94-2.06-.94-.94-2.06-.94 2.06-2.06.94z\"/><path d=\"M17.41 7.96l-1.37-1.37c-.4-.4-.92-.59-1.43-.59-.52 0-1.04.2-1.43.59L10.3 9.45l-7.72 7.72c-.78.78-.78 2.05 0 2.83L4 21.41c.39.39.9.59 1.41.59.51 0 1.02-.2 1.41-.59l7.78-7.78 2.81-2.81c.8-.78.8-2.07 0-2.86zM5.41 20L4 18.59l7.72-7.72 1.47 1.35L5.41 20z\"/>\n",
              "  </svg>\n",
              "      </button>\n",
              "      \n",
              "  <style>\n",
              "    .colab-df-container {\n",
              "      display:flex;\n",
              "      flex-wrap:wrap;\n",
              "      gap: 12px;\n",
              "    }\n",
              "\n",
              "    .colab-df-convert {\n",
              "      background-color: #E8F0FE;\n",
              "      border: none;\n",
              "      border-radius: 50%;\n",
              "      cursor: pointer;\n",
              "      display: none;\n",
              "      fill: #1967D2;\n",
              "      height: 32px;\n",
              "      padding: 0 0 0 0;\n",
              "      width: 32px;\n",
              "    }\n",
              "\n",
              "    .colab-df-convert:hover {\n",
              "      background-color: #E2EBFA;\n",
              "      box-shadow: 0px 1px 2px rgba(60, 64, 67, 0.3), 0px 1px 3px 1px rgba(60, 64, 67, 0.15);\n",
              "      fill: #174EA6;\n",
              "    }\n",
              "\n",
              "    [theme=dark] .colab-df-convert {\n",
              "      background-color: #3B4455;\n",
              "      fill: #D2E3FC;\n",
              "    }\n",
              "\n",
              "    [theme=dark] .colab-df-convert:hover {\n",
              "      background-color: #434B5C;\n",
              "      box-shadow: 0px 1px 3px 1px rgba(0, 0, 0, 0.15);\n",
              "      filter: drop-shadow(0px 1px 2px rgba(0, 0, 0, 0.3));\n",
              "      fill: #FFFFFF;\n",
              "    }\n",
              "  </style>\n",
              "\n",
              "      <script>\n",
              "        const buttonEl =\n",
              "          document.querySelector('#df-84f685ab-5733-476b-b310-27b810f69b24 button.colab-df-convert');\n",
              "        buttonEl.style.display =\n",
              "          google.colab.kernel.accessAllowed ? 'block' : 'none';\n",
              "\n",
              "        async function convertToInteractive(key) {\n",
              "          const element = document.querySelector('#df-84f685ab-5733-476b-b310-27b810f69b24');\n",
              "          const dataTable =\n",
              "            await google.colab.kernel.invokeFunction('convertToInteractive',\n",
              "                                                     [key], {});\n",
              "          if (!dataTable) return;\n",
              "\n",
              "          const docLinkHtml = 'Like what you see? Visit the ' +\n",
              "            '<a target=\"_blank\" href=https://colab.research.google.com/notebooks/data_table.ipynb>data table notebook</a>'\n",
              "            + ' to learn more about interactive tables.';\n",
              "          element.innerHTML = '';\n",
              "          dataTable['output_type'] = 'display_data';\n",
              "          await google.colab.output.renderOutput(dataTable, element);\n",
              "          const docLink = document.createElement('div');\n",
              "          docLink.innerHTML = docLinkHtml;\n",
              "          element.appendChild(docLink);\n",
              "        }\n",
              "      </script>\n",
              "    </div>\n",
              "  </div>\n",
              "  "
            ],
            "text/plain": [
              "   id keyword  ...                                               text target\n",
              "0   1     NaN  ...  Our Deeds are the Reason of this #earthquake M...      1\n",
              "1   4     NaN  ...             Forest fire near La Ronge Sask. Canada      1\n",
              "2   5     NaN  ...  All residents asked to 'shelter in place' are ...      1\n",
              "3   6     NaN  ...  13,000 people receive #wildfires evacuation or...      1\n",
              "4   7     NaN  ...  Just got sent this photo from Ruby #Alaska as ...      1\n",
              "\n",
              "[5 rows x 5 columns]"
            ]
          },
          "metadata": {},
          "execution_count": 3
        }
      ],
      "source": [
        "train_df = pd.read_csv('train.csv')\n",
        "train_df.head()"
      ]
    },
    {
      "cell_type": "code",
      "execution_count": 4,
      "metadata": {
        "colab": {
          "base_uri": "https://localhost:8080/",
          "height": 206
        },
        "id": "P0xNXnlj0gVP",
        "outputId": "5ebd2318-0c71-44c9-b579-0ac11aa2d155"
      },
      "outputs": [
        {
          "output_type": "execute_result",
          "data": {
            "text/html": [
              "\n",
              "  <div id=\"df-c44b0d55-12ec-4caf-b242-02974dc77be2\">\n",
              "    <div class=\"colab-df-container\">\n",
              "      <div>\n",
              "<style scoped>\n",
              "    .dataframe tbody tr th:only-of-type {\n",
              "        vertical-align: middle;\n",
              "    }\n",
              "\n",
              "    .dataframe tbody tr th {\n",
              "        vertical-align: top;\n",
              "    }\n",
              "\n",
              "    .dataframe thead th {\n",
              "        text-align: right;\n",
              "    }\n",
              "</style>\n",
              "<table border=\"1\" class=\"dataframe\">\n",
              "  <thead>\n",
              "    <tr style=\"text-align: right;\">\n",
              "      <th></th>\n",
              "      <th>id</th>\n",
              "      <th>keyword</th>\n",
              "      <th>location</th>\n",
              "      <th>text</th>\n",
              "    </tr>\n",
              "  </thead>\n",
              "  <tbody>\n",
              "    <tr>\n",
              "      <th>0</th>\n",
              "      <td>0</td>\n",
              "      <td>NaN</td>\n",
              "      <td>NaN</td>\n",
              "      <td>Just happened a terrible car crash</td>\n",
              "    </tr>\n",
              "    <tr>\n",
              "      <th>1</th>\n",
              "      <td>2</td>\n",
              "      <td>NaN</td>\n",
              "      <td>NaN</td>\n",
              "      <td>Heard about #earthquake is different cities, s...</td>\n",
              "    </tr>\n",
              "    <tr>\n",
              "      <th>2</th>\n",
              "      <td>3</td>\n",
              "      <td>NaN</td>\n",
              "      <td>NaN</td>\n",
              "      <td>there is a forest fire at spot pond, geese are...</td>\n",
              "    </tr>\n",
              "    <tr>\n",
              "      <th>3</th>\n",
              "      <td>9</td>\n",
              "      <td>NaN</td>\n",
              "      <td>NaN</td>\n",
              "      <td>Apocalypse lighting. #Spokane #wildfires</td>\n",
              "    </tr>\n",
              "    <tr>\n",
              "      <th>4</th>\n",
              "      <td>11</td>\n",
              "      <td>NaN</td>\n",
              "      <td>NaN</td>\n",
              "      <td>Typhoon Soudelor kills 28 in China and Taiwan</td>\n",
              "    </tr>\n",
              "  </tbody>\n",
              "</table>\n",
              "</div>\n",
              "      <button class=\"colab-df-convert\" onclick=\"convertToInteractive('df-c44b0d55-12ec-4caf-b242-02974dc77be2')\"\n",
              "              title=\"Convert this dataframe to an interactive table.\"\n",
              "              style=\"display:none;\">\n",
              "        \n",
              "  <svg xmlns=\"http://www.w3.org/2000/svg\" height=\"24px\"viewBox=\"0 0 24 24\"\n",
              "       width=\"24px\">\n",
              "    <path d=\"M0 0h24v24H0V0z\" fill=\"none\"/>\n",
              "    <path d=\"M18.56 5.44l.94 2.06.94-2.06 2.06-.94-2.06-.94-.94-2.06-.94 2.06-2.06.94zm-11 1L8.5 8.5l.94-2.06 2.06-.94-2.06-.94L8.5 2.5l-.94 2.06-2.06.94zm10 10l.94 2.06.94-2.06 2.06-.94-2.06-.94-.94-2.06-.94 2.06-2.06.94z\"/><path d=\"M17.41 7.96l-1.37-1.37c-.4-.4-.92-.59-1.43-.59-.52 0-1.04.2-1.43.59L10.3 9.45l-7.72 7.72c-.78.78-.78 2.05 0 2.83L4 21.41c.39.39.9.59 1.41.59.51 0 1.02-.2 1.41-.59l7.78-7.78 2.81-2.81c.8-.78.8-2.07 0-2.86zM5.41 20L4 18.59l7.72-7.72 1.47 1.35L5.41 20z\"/>\n",
              "  </svg>\n",
              "      </button>\n",
              "      \n",
              "  <style>\n",
              "    .colab-df-container {\n",
              "      display:flex;\n",
              "      flex-wrap:wrap;\n",
              "      gap: 12px;\n",
              "    }\n",
              "\n",
              "    .colab-df-convert {\n",
              "      background-color: #E8F0FE;\n",
              "      border: none;\n",
              "      border-radius: 50%;\n",
              "      cursor: pointer;\n",
              "      display: none;\n",
              "      fill: #1967D2;\n",
              "      height: 32px;\n",
              "      padding: 0 0 0 0;\n",
              "      width: 32px;\n",
              "    }\n",
              "\n",
              "    .colab-df-convert:hover {\n",
              "      background-color: #E2EBFA;\n",
              "      box-shadow: 0px 1px 2px rgba(60, 64, 67, 0.3), 0px 1px 3px 1px rgba(60, 64, 67, 0.15);\n",
              "      fill: #174EA6;\n",
              "    }\n",
              "\n",
              "    [theme=dark] .colab-df-convert {\n",
              "      background-color: #3B4455;\n",
              "      fill: #D2E3FC;\n",
              "    }\n",
              "\n",
              "    [theme=dark] .colab-df-convert:hover {\n",
              "      background-color: #434B5C;\n",
              "      box-shadow: 0px 1px 3px 1px rgba(0, 0, 0, 0.15);\n",
              "      filter: drop-shadow(0px 1px 2px rgba(0, 0, 0, 0.3));\n",
              "      fill: #FFFFFF;\n",
              "    }\n",
              "  </style>\n",
              "\n",
              "      <script>\n",
              "        const buttonEl =\n",
              "          document.querySelector('#df-c44b0d55-12ec-4caf-b242-02974dc77be2 button.colab-df-convert');\n",
              "        buttonEl.style.display =\n",
              "          google.colab.kernel.accessAllowed ? 'block' : 'none';\n",
              "\n",
              "        async function convertToInteractive(key) {\n",
              "          const element = document.querySelector('#df-c44b0d55-12ec-4caf-b242-02974dc77be2');\n",
              "          const dataTable =\n",
              "            await google.colab.kernel.invokeFunction('convertToInteractive',\n",
              "                                                     [key], {});\n",
              "          if (!dataTable) return;\n",
              "\n",
              "          const docLinkHtml = 'Like what you see? Visit the ' +\n",
              "            '<a target=\"_blank\" href=https://colab.research.google.com/notebooks/data_table.ipynb>data table notebook</a>'\n",
              "            + ' to learn more about interactive tables.';\n",
              "          element.innerHTML = '';\n",
              "          dataTable['output_type'] = 'display_data';\n",
              "          await google.colab.output.renderOutput(dataTable, element);\n",
              "          const docLink = document.createElement('div');\n",
              "          docLink.innerHTML = docLinkHtml;\n",
              "          element.appendChild(docLink);\n",
              "        }\n",
              "      </script>\n",
              "    </div>\n",
              "  </div>\n",
              "  "
            ],
            "text/plain": [
              "   id keyword location                                               text\n",
              "0   0     NaN      NaN                 Just happened a terrible car crash\n",
              "1   2     NaN      NaN  Heard about #earthquake is different cities, s...\n",
              "2   3     NaN      NaN  there is a forest fire at spot pond, geese are...\n",
              "3   9     NaN      NaN           Apocalypse lighting. #Spokane #wildfires\n",
              "4  11     NaN      NaN      Typhoon Soudelor kills 28 in China and Taiwan"
            ]
          },
          "metadata": {},
          "execution_count": 4
        }
      ],
      "source": [
        "test_df = pd.read_csv('test.csv')\n",
        "test_df.head()"
      ]
    },
    {
      "cell_type": "markdown",
      "metadata": {
        "id": "lukDMemr0gVP"
      },
      "source": [
        "**Columns**\n",
        "\n",
        "**id** - a unique identifier for each tweet\n",
        "\n",
        "**text** - the text of the tweet\n",
        "\n",
        "**location** - the location the tweet was sent from (may be blank)\n",
        "\n",
        "**keyword** - a particular keyword from the tweet (may be blank)\n",
        "\n",
        "**target** - in train.csv only, this denotes whether a tweet is about a real disaster (1) or not (0)"
      ]
    },
    {
      "cell_type": "code",
      "execution_count": 5,
      "metadata": {
        "colab": {
          "base_uri": "https://localhost:8080/"
        },
        "id": "-jUbdmLZ0gVP",
        "outputId": "5f12bca8-a0e1-478c-a49d-9dd49607b23d"
      },
      "outputs": [
        {
          "output_type": "stream",
          "name": "stdout",
          "text": [
            "Shape of the train dataset (7613, 5)\n",
            "Shape of the test dataset (3263, 4)\n"
          ]
        }
      ],
      "source": [
        "print('Shape of the train dataset',train_df.shape)\n",
        "print('Shape of the test dataset',test_df.shape)"
      ]
    },
    {
      "cell_type": "markdown",
      "metadata": {
        "id": "weo1Zzmx0gVP"
      },
      "source": [
        "# **Exploratory Data Analysis**"
      ]
    },
    {
      "cell_type": "markdown",
      "metadata": {
        "id": "4QbHR9Ij0gVQ"
      },
      "source": [
        "### **Distribution of class labels of the training dataset**"
      ]
    },
    {
      "cell_type": "code",
      "execution_count": 6,
      "metadata": {
        "colab": {
          "base_uri": "https://localhost:8080/",
          "height": 262
        },
        "id": "WxitKvqj0gVQ",
        "outputId": "1841049f-b6f8-459c-ea8f-0be89cf265ab"
      },
      "outputs": [
        {
          "output_type": "display_data",
          "data": {
            "image/png": "[encoded data removed]",
            "text/plain": [
              "<Figure size 432x288 with 1 Axes>"
            ]
          },
          "metadata": {
            "needs_background": "light"
          }
        }
      ],
      "source": [
        "train_df['target'].value_counts().plot(kind='bar')\n",
        "plt.show()"
      ]
    },
    {
      "cell_type": "markdown",
      "metadata": {
        "id": "MJgIykwm0gVQ"
      },
      "source": [
        "* **The bar plot demonstrates that we have a reasonable amount of data from both classes, indicating that we won't have any problems with data imbalance.**"
      ]
    },
    {
      "cell_type": "markdown",
      "metadata": {
        "id": "Kj3KIb3y0gVQ"
      },
      "source": [
        "### **Checking For Nan Value Along the columns in tha dataframe**"
      ]
    },
    {
      "cell_type": "code",
      "execution_count": 7,
      "metadata": {
        "colab": {
          "base_uri": "https://localhost:8080/"
        },
        "id": "BqRynZat0gVQ",
        "outputId": "582bed25-ecfb-4036-9181-85553977e5b3"
      },
      "outputs": [
        {
          "output_type": "execute_result",
          "data": {
            "text/plain": [
              "id             0\n",
              "keyword       61\n",
              "location    2533\n",
              "text           0\n",
              "target         0\n",
              "dtype: int64"
            ]
          },
          "metadata": {},
          "execution_count": 7
        }
      ],
      "source": [
        "train_df.isna().sum(axis=0)"
      ]
    },
    {
      "cell_type": "markdown",
      "metadata": {
        "id": "twjRJ3Zq0gVQ"
      },
      "source": [
        "* **In this project we are just going to use only text feature for modeling**"
      ]
    },
    {
      "cell_type": "markdown",
      "metadata": {
        "id": "hIa6kLSz0gVQ"
      },
      "source": [
        "### **Data Cleaning**"
      ]
    },
    {
      "cell_type": "markdown",
      "metadata": {
        "id": "yVw6urPX0gVR"
      },
      "source": [
        "#### **Deduplication of tweets**"
      ]
    },
    {
      "cell_type": "code",
      "execution_count": 8,
      "metadata": {
        "colab": {
          "base_uri": "https://localhost:8080/"
        },
        "id": "TPpFs2Jm0gVR",
        "outputId": "1a5ca766-1436-44c9-af71-17cdd2eae865"
      },
      "outputs": [
        {
          "output_type": "execute_result",
          "data": {
            "text/plain": [
              "48      Check these out: http://t.co/rOI2NSmEJJ http:/...\n",
              "115     320 [IR] ICEMOON [AFTERSHOCK] | http://t.co/vA...\n",
              "119     320 [IR] ICEMOON [AFTERSHOCK] | http://t.co/TH...\n",
              "164     Experts in France begin examining airplane deb...\n",
              "624                            To fight bioterrorism sir.\n",
              "                              ...                        \n",
              "7600    Evacuation order lifted for town of Roosevelt:...\n",
              "7607    #stormchase Violent Record Breaking EF-5 El Re...\n",
              "7609    @aria_ahrary @TheTawniest The out of control w...\n",
              "7610    M1.94 [01:04 UTC]?5km S of Volcano Hawaii. htt...\n",
              "7611    Police investigating after an e-bike collided ...\n",
              "Name: text, Length: 110, dtype: object"
            ]
          },
          "metadata": {},
          "execution_count": 8
        }
      ],
      "source": [
        "train_df.text[train_df.text.duplicated()]"
      ]
    },
    {
      "cell_type": "markdown",
      "metadata": {
        "id": "pPYSCLxQ0gVR"
      },
      "source": [
        "* **We discovered 110 duplicate tweets; we are keeping only one instance of the tweet and deleting the rest.**"
      ]
    },
    {
      "cell_type": "code",
      "execution_count": 9,
      "metadata": {
        "id": "vNDmRYRn0gVR"
      },
      "outputs": [],
      "source": [
        "train_df.text.drop_duplicates(keep='first', inplace=True)"
      ]
    },
    {
      "cell_type": "markdown",
      "metadata": {
        "id": "S8FZzXE00gVR"
      },
      "source": [
        "### **Text Preprocessing**"
      ]
    },
    {
      "cell_type": "code",
      "execution_count": 10,
      "metadata": {
        "colab": {
          "base_uri": "https://localhost:8080/"
        },
        "id": "fpHvQxhj0gVR",
        "outputId": "6d0db2b3-203d-4a4b-9ed0-a9cf37172766"
      },
      "outputs": [
        {
          "output_type": "stream",
          "name": "stdout",
          "text": [
            "Photo: forrestmankins: Colorado camping. http://t.co/S0VgTkhW7V\n",
            "@Eganator2000 There aren't many Obliteration servers but I always like to play when there are :D\n",
            "Fukushima Nuclear Disaster | Increased Thyroid Cancer in U.S. http://t.co/FtuNlH6ddg\n",
            "'Bloody 'ell! Let it burn!' #RubyBot\n",
            "WFTV Eyewitness News: TN school psychologist arrested in Florida on child porn charges http://t.co/lgGLf5yrMe\n"
          ]
        }
      ],
      "source": [
        "#printing some random tweets\n",
        "for i in range(1,6):\n",
        "    tweet_no = random.randint(0,train_df.shape[0])\n",
        "    print(train_df.text.loc[tweet_no])"
      ]
    },
    {
      "cell_type": "markdown",
      "metadata": {
        "id": "ox5V13al0gVR"
      },
      "source": [
        "* **We can see that most tweets have hyperlinks, hashtags(#), tags(@), stock market stickers like $GT, old style retweet text RT, and certain signs like..., etc. by running the above code for multiples. We will remove all of this unnecessary content.**"
      ]
    },
    {
      "cell_type": "code",
      "execution_count": 11,
      "metadata": {
        "id": "l8F_61kG0gVR"
      },
      "outputs": [],
      "source": [
        "stop_words = stopwords.words('english')\n",
        "lemmatizer = WordNetLemmatizer()"
      ]
    },
    {
      "cell_type": "code",
      "execution_count": 12,
      "metadata": {
        "id": "Nx0-f77o0gVR"
      },
      "outputs": [],
      "source": [
        "def decontracted(phrase):\n",
        "    # specific\n",
        "    phrase = re.sub(r\"won't\", \"will not\", phrase)\n",
        "    phrase = re.sub(r\"can\\'t\", \"can not\", phrase)\n",
        "\n",
        "    # general\n",
        "    phrase = re.sub(r\"n\\'t\", \" not\", phrase)\n",
        "    phrase = re.sub(r\"\\'re\", \" are\", phrase)\n",
        "    phrase = re.sub(r\"\\'s\", \" is\", phrase)\n",
        "    phrase = re.sub(r\"\\'d\", \" would\", phrase)\n",
        "    phrase = re.sub(r\"\\'ll\", \" will\", phrase)\n",
        "    phrase = re.sub(r\"\\'t\", \" not\", phrase)\n",
        "    phrase = re.sub(r\"\\'ve\", \" have\", phrase)\n",
        "    phrase = re.sub(r\"\\'m\", \" am\", phrase)\n",
        "    return phrase"
      ]
    },
    {
      "cell_type": "code",
      "execution_count": 13,
      "metadata": {
        "id": "Qqn7Z4Wj0gVS"
      },
      "outputs": [],
      "source": [
        "def pre_process_text_data(df, column_name='text'):\n",
        "    \n",
        "    pre_processed_tweets = []\n",
        "    for tweet in df[column_name].values:\n",
        "         tweet = ' '.join(t.lower() for t in tweet.split() if t.lower() not in stop_words)\n",
        "         # remove hyperlinks\n",
        "         tweet = re.sub(r\"http\\S+\", \"\", tweet)\n",
        "         tweet = BeautifulSoup(tweet, 'lxml').get_text()\n",
        "         tweet = decontracted(tweet)\n",
        "         # remove words with numbers\n",
        "         tweet = re.sub(\"\\S*\\d\\S*\", \"\", tweet).strip()\n",
        "         # remove spacial character\n",
        "         tweet = re.sub('[^A-Za-z]+', ' ', tweet)\n",
        "         # remove stock market tickers like $GE\n",
        "         tweet = re.sub(r'\\$\\w*', '', tweet)\n",
        "         # remove old style retweet text \"RT\"\n",
        "         tweet = re.sub(r'^RT[\\s]+', '', tweet)\n",
        "         # remove hashtag  @, ... sign from the word\n",
        "         tweet = re.sub(r'\\.{3}|@|#|û_', '', tweet)\n",
        "         # tokenize tweets\n",
        "         tokenizer = TweetTokenizer(preserve_case=False, strip_handles=True, reduce_len=True)\n",
        "         tweet_tokens = tokenizer.tokenize(tweet)\n",
        "         cleaned_token = []\n",
        "         for token in tweet_tokens:\n",
        "                if  len(token) > 2:\n",
        "                 lemma_word = lemmatizer.lemmatize(token) \n",
        "                 cleaned_token.append(token)\n",
        "         tweet = ' '.join(cleaned_token)\n",
        "         pre_processed_tweets.append(tweet)\n",
        "    return pre_processed_tweets"
      ]
    },
    {
      "cell_type": "code",
      "execution_count": 14,
      "metadata": {
        "id": "hUzJgTQp0gVX"
      },
      "outputs": [],
      "source": [
        "pre_processed_tweets = pre_process_text_data(train_df, column_name='text')"
      ]
    },
    {
      "cell_type": "code",
      "source": [
        "pre_processed_tweets_test = pre_process_text_data(test_df, column_name='text')"
      ],
      "metadata": {
        "id": "XiXmruspY_gI"
      },
      "execution_count": 93,
      "outputs": []
    },
    {
      "cell_type": "code",
      "execution_count": 15,
      "metadata": {
        "colab": {
          "base_uri": "https://localhost:8080/"
        },
        "id": "vpofI6un0gVX",
        "outputId": "0912f8c3-f39f-428f-ac00-d7902ea91ee1"
      },
      "outputs": [
        {
          "output_type": "execute_result",
          "data": {
            "text/plain": [
              "['deeds reason earthquake may allah forgive',\n",
              " 'forest fire near ronge sask canada',\n",
              " 'residents asked ishelter place notified officers evacuation shelter place orders expected',\n",
              " 'people receive wildfires evacuation orders california',\n",
              " 'got sent photo ruby alaska smoke wildfires pours school']"
            ]
          },
          "metadata": {},
          "execution_count": 15
        }
      ],
      "source": [
        "pre_processed_tweets[:5]"
      ]
    },
    {
      "cell_type": "markdown",
      "metadata": {
        "id": "rVpmhjfy0gVX"
      },
      "source": [
        "#### **New DataFrame Was Created with Preprocessed Tweets and Target Label**"
      ]
    },
    {
      "cell_type": "code",
      "execution_count": 16,
      "metadata": {
        "colab": {
          "base_uri": "https://localhost:8080/",
          "height": 224
        },
        "id": "fG8sLd3h0gVX",
        "outputId": "40a9a4b4-95a3-4766-bcb8-5033037345c5"
      },
      "outputs": [
        {
          "output_type": "stream",
          "name": "stdout",
          "text": [
            "Shape of the dataframe: (7613, 2)\n"
          ]
        },
        {
          "output_type": "execute_result",
          "data": {
            "text/html": [
              "\n",
              "  <div id=\"df-d055e56c-4d89-4e7e-89bb-8efc304537ad\">\n",
              "    <div class=\"colab-df-container\">\n",
              "      <div>\n",
              "<style scoped>\n",
              "    .dataframe tbody tr th:only-of-type {\n",
              "        vertical-align: middle;\n",
              "    }\n",
              "\n",
              "    .dataframe tbody tr th {\n",
              "        vertical-align: top;\n",
              "    }\n",
              "\n",
              "    .dataframe thead th {\n",
              "        text-align: right;\n",
              "    }\n",
              "</style>\n",
              "<table border=\"1\" class=\"dataframe\">\n",
              "  <thead>\n",
              "    <tr style=\"text-align: right;\">\n",
              "      <th></th>\n",
              "      <th>tweets</th>\n",
              "      <th>target</th>\n",
              "    </tr>\n",
              "  </thead>\n",
              "  <tbody>\n",
              "    <tr>\n",
              "      <th>0</th>\n",
              "      <td>deeds reason earthquake may allah forgive</td>\n",
              "      <td>1</td>\n",
              "    </tr>\n",
              "    <tr>\n",
              "      <th>1</th>\n",
              "      <td>forest fire near ronge sask canada</td>\n",
              "      <td>1</td>\n",
              "    </tr>\n",
              "    <tr>\n",
              "      <th>2</th>\n",
              "      <td>residents asked ishelter place notified office...</td>\n",
              "      <td>1</td>\n",
              "    </tr>\n",
              "    <tr>\n",
              "      <th>3</th>\n",
              "      <td>people receive wildfires evacuation orders cal...</td>\n",
              "      <td>1</td>\n",
              "    </tr>\n",
              "    <tr>\n",
              "      <th>4</th>\n",
              "      <td>got sent photo ruby alaska smoke wildfires pou...</td>\n",
              "      <td>1</td>\n",
              "    </tr>\n",
              "  </tbody>\n",
              "</table>\n",
              "</div>\n",
              "      <button class=\"colab-df-convert\" onclick=\"convertToInteractive('df-d055e56c-4d89-4e7e-89bb-8efc304537ad')\"\n",
              "              title=\"Convert this dataframe to an interactive table.\"\n",
              "              style=\"display:none;\">\n",
              "        \n",
              "  <svg xmlns=\"http://www.w3.org/2000/svg\" height=\"24px\"viewBox=\"0 0 24 24\"\n",
              "       width=\"24px\">\n",
              "    <path d=\"M0 0h24v24H0V0z\" fill=\"none\"/>\n",
              "    <path d=\"M18.56 5.44l.94 2.06.94-2.06 2.06-.94-2.06-.94-.94-2.06-.94 2.06-2.06.94zm-11 1L8.5 8.5l.94-2.06 2.06-.94-2.06-.94L8.5 2.5l-.94 2.06-2.06.94zm10 10l.94 2.06.94-2.06 2.06-.94-2.06-.94-.94-2.06-.94 2.06-2.06.94z\"/><path d=\"M17.41 7.96l-1.37-1.37c-.4-.4-.92-.59-1.43-.59-.52 0-1.04.2-1.43.59L10.3 9.45l-7.72 7.72c-.78.78-.78 2.05 0 2.83L4 21.41c.39.39.9.59 1.41.59.51 0 1.02-.2 1.41-.59l7.78-7.78 2.81-2.81c.8-.78.8-2.07 0-2.86zM5.41 20L4 18.59l7.72-7.72 1.47 1.35L5.41 20z\"/>\n",
              "  </svg>\n",
              "      </button>\n",
              "      \n",
              "  <style>\n",
              "    .colab-df-container {\n",
              "      display:flex;\n",
              "      flex-wrap:wrap;\n",
              "      gap: 12px;\n",
              "    }\n",
              "\n",
              "    .colab-df-convert {\n",
              "      background-color: #E8F0FE;\n",
              "      border: none;\n",
              "      border-radius: 50%;\n",
              "      cursor: pointer;\n",
              "      display: none;\n",
              "      fill: #1967D2;\n",
              "      height: 32px;\n",
              "      padding: 0 0 0 0;\n",
              "      width: 32px;\n",
              "    }\n",
              "\n",
              "    .colab-df-convert:hover {\n",
              "      background-color: #E2EBFA;\n",
              "      box-shadow: 0px 1px 2px rgba(60, 64, 67, 0.3), 0px 1px 3px 1px rgba(60, 64, 67, 0.15);\n",
              "      fill: #174EA6;\n",
              "    }\n",
              "\n",
              "    [theme=dark] .colab-df-convert {\n",
              "      background-color: #3B4455;\n",
              "      fill: #D2E3FC;\n",
              "    }\n",
              "\n",
              "    [theme=dark] .colab-df-convert:hover {\n",
              "      background-color: #434B5C;\n",
              "      box-shadow: 0px 1px 3px 1px rgba(0, 0, 0, 0.15);\n",
              "      filter: drop-shadow(0px 1px 2px rgba(0, 0, 0, 0.3));\n",
              "      fill: #FFFFFF;\n",
              "    }\n",
              "  </style>\n",
              "\n",
              "      <script>\n",
              "        const buttonEl =\n",
              "          document.querySelector('#df-d055e56c-4d89-4e7e-89bb-8efc304537ad button.colab-df-convert');\n",
              "        buttonEl.style.display =\n",
              "          google.colab.kernel.accessAllowed ? 'block' : 'none';\n",
              "\n",
              "        async function convertToInteractive(key) {\n",
              "          const element = document.querySelector('#df-d055e56c-4d89-4e7e-89bb-8efc304537ad');\n",
              "          const dataTable =\n",
              "            await google.colab.kernel.invokeFunction('convertToInteractive',\n",
              "                                                     [key], {});\n",
              "          if (!dataTable) return;\n",
              "\n",
              "          const docLinkHtml = 'Like what you see? Visit the ' +\n",
              "            '<a target=\"_blank\" href=https://colab.research.google.com/notebooks/data_table.ipynb>data table notebook</a>'\n",
              "            + ' to learn more about interactive tables.';\n",
              "          element.innerHTML = '';\n",
              "          dataTable['output_type'] = 'display_data';\n",
              "          await google.colab.output.renderOutput(dataTable, element);\n",
              "          const docLink = document.createElement('div');\n",
              "          docLink.innerHTML = docLinkHtml;\n",
              "          element.appendChild(docLink);\n",
              "        }\n",
              "      </script>\n",
              "    </div>\n",
              "  </div>\n",
              "  "
            ],
            "text/plain": [
              "                                              tweets  target\n",
              "0          deeds reason earthquake may allah forgive       1\n",
              "1                 forest fire near ronge sask canada       1\n",
              "2  residents asked ishelter place notified office...       1\n",
              "3  people receive wildfires evacuation orders cal...       1\n",
              "4  got sent photo ruby alaska smoke wildfires pou...       1"
            ]
          },
          "metadata": {},
          "execution_count": 16
        }
      ],
      "source": [
        "new_df = pd.DataFrame(\n",
        "                        data = {\n",
        "                            'tweets':pre_processed_tweets,\n",
        "                            'target':train_df.target.values\n",
        "                        },\n",
        "                        columns = ['tweets', 'target']\n",
        "                     )\n",
        "\n",
        "print('Shape of the dataframe:',new_df.shape)\n",
        "new_df.head()"
      ]
    },
    {
      "cell_type": "code",
      "execution_count": 17,
      "metadata": {
        "id": "_LYChOVt0gVX"
      },
      "outputs": [],
      "source": [
        "new_df.to_csv('pre_processed_tweets.csv',index=False)"
      ]
    },
    {
      "cell_type": "code",
      "execution_count": 18,
      "metadata": {
        "id": "1dPGmyuf0gVY"
      },
      "outputs": [],
      "source": [
        "X = new_df.tweets.copy()\n",
        "y = new_df.target.copy()"
      ]
    },
    {
      "cell_type": "markdown",
      "metadata": {
        "id": "NowqgIrY0gVY"
      },
      "source": [
        "# **Train Test Validation Split**"
      ]
    },
    {
      "cell_type": "code",
      "execution_count": 19,
      "metadata": {
        "id": "UZdA_Lbk0gVY"
      },
      "outputs": [],
      "source": [
        "X_train, X_val, y_train, y_val = train_test_split(X, y, test_size=0.15, random_state=42, stratify=y)"
      ]
    },
    {
      "cell_type": "markdown",
      "metadata": {
        "id": "Ch7qQ13A0gVY"
      },
      "source": [
        "# **Featurization**"
      ]
    },
    {
      "cell_type": "markdown",
      "metadata": {
        "id": "5AHSTfl50gVY"
      },
      "source": [
        "### **Bag of Words**"
      ]
    },
    {
      "cell_type": "code",
      "execution_count": 20,
      "metadata": {
        "colab": {
          "base_uri": "https://localhost:8080/"
        },
        "id": "aUePgGQK0gVY",
        "outputId": "ab19cebd-70b3-4f7b-993b-8a2a0afb4efc"
      },
      "outputs": [
        {
          "output_type": "stream",
          "name": "stdout",
          "text": [
            "some feature names  ['aaa' 'aaalll' 'aaand' 'aaarrrgghhh' 'aace' 'aan' 'aannnd' 'aar'\n",
            " 'aaronthefm' 'aashiqui']\n",
            "==================================================\n",
            "the type of count vectorizer  <class 'scipy.sparse.csr.csr_matrix'>\n",
            "the shape of out text BOW vectorizer  (6471, 14015)\n",
            "the number of unique words  14015\n"
          ]
        }
      ],
      "source": [
        "#BoW\n",
        "count_vect = CountVectorizer() #in scikit-learn\n",
        "count_vect.fit(X_train)\n",
        "print(\"some feature names \", count_vect.get_feature_names_out()[:10])\n",
        "print('='*50)\n",
        "\n",
        "X_train_bow = count_vect.transform(X_train)\n",
        "print(\"the type of count vectorizer \",type(X_train_bow))\n",
        "print(\"the shape of out text BOW vectorizer \",X_train_bow.get_shape())\n",
        "print(\"the number of unique words \", X_train_bow.get_shape()[1])"
      ]
    },
    {
      "cell_type": "code",
      "execution_count": 21,
      "metadata": {
        "colab": {
          "base_uri": "https://localhost:8080/"
        },
        "id": "mBbdqCgK0gVY",
        "outputId": "ff88a247-10b2-4fab-f13c-374da0a78847"
      },
      "outputs": [
        {
          "output_type": "stream",
          "name": "stdout",
          "text": [
            "the shape of out text BOW vectorizer  (1142, 14015)\n"
          ]
        }
      ],
      "source": [
        "X_val_bow = count_vect.transform(X_val)\n",
        "print(\"the shape of out text BOW vectorizer \", X_val_bow.get_shape())"
      ]
    },
    {
      "cell_type": "markdown",
      "metadata": {
        "id": "9E8P1aMC0gVY"
      },
      "source": [
        "### **Bi-Grams and n-Grams**"
      ]
    },
    {
      "cell_type": "code",
      "execution_count": 124,
      "metadata": {
        "colab": {
          "base_uri": "https://localhost:8080/"
        },
        "id": "udKWMhBa0gVY",
        "outputId": "a8786267-99a4-4c7c-d09f-0fea25a0aab2"
      },
      "outputs": [
        {
          "output_type": "stream",
          "name": "stdout",
          "text": [
            "the type of count vectorizer  <class 'scipy.sparse.csr.csr_matrix'>\n",
            "the shape of out text BOW vectorizer  (6471, 89484)\n",
            "the number of unique words including both unigrams and bigrams  89484\n"
          ]
        }
      ],
      "source": [
        "count_vect_grams = CountVectorizer(ngram_range=(1,3), min_df=1)\n",
        "X_train_bow_bigram = count_vect_grams.fit_transform(X_train)\n",
        "print(\"the type of count vectorizer \",type(X_train_bow_bigram))\n",
        "print(\"the shape of out text BOW vectorizer \",X_train_bow_bigram.get_shape())\n",
        "print(\"the number of unique words including both unigrams and bigrams \", X_train_bow_bigram.get_shape()[1])"
      ]
    },
    {
      "cell_type": "code",
      "execution_count": 95,
      "metadata": {
        "colab": {
          "base_uri": "https://localhost:8080/"
        },
        "id": "Ztyu7LyA0gVY",
        "outputId": "1b2de521-e214-479d-eea2-a6e48eae747f"
      },
      "outputs": [
        {
          "output_type": "stream",
          "name": "stdout",
          "text": [
            "the shape of out text BOW vectorizer  (1142, 89484)\n"
          ]
        }
      ],
      "source": [
        "X_val_bow_bigram = count_vect_grams.transform(X_val)\n",
        "print(\"the shape of out text BOW vectorizer \", X_val_bow_bigram.get_shape())"
      ]
    },
    {
      "cell_type": "markdown",
      "metadata": {
        "id": "I99YyQQ30gVY"
      },
      "source": [
        "### **TF-IDF With Bigrams**"
      ]
    },
    {
      "cell_type": "code",
      "execution_count": 125,
      "metadata": {
        "colab": {
          "base_uri": "https://localhost:8080/"
        },
        "id": "JpN3o0fV0gVY",
        "outputId": "bdea8b93-bbf7-49de-9dce-c34321a8d3c1"
      },
      "outputs": [
        {
          "output_type": "stream",
          "name": "stdout",
          "text": [
            "some sample features(unique words in the corpus) ['aaa' 'aaa lemme' 'aaalll' 'aaalll even' 'aaand' 'aaand there'\n",
            " 'aaarrrgghhh' 'aace' 'aace org' 'aan']\n",
            "==================================================\n",
            "the type of count vectorizer  <class 'scipy.sparse.csr.csr_matrix'>\n",
            "the shape of out text TFIDF vectorizer  (6471, 52939)\n",
            "the number of unique words including both unigrams and bigrams  52939\n"
          ]
        }
      ],
      "source": [
        "tf_idf_vect = TfidfVectorizer(ngram_range=(1,2))\n",
        "tf_idf_vect.fit(X_train)\n",
        "print(\"some sample features(unique words in the corpus)\",tf_idf_vect.get_feature_names_out()[0:10])\n",
        "print('='*50)\n",
        "\n",
        "X_train_tfidf = tf_idf_vect.transform(X_train)\n",
        "print(\"the type of count vectorizer \",type(X_train_tfidf))\n",
        "print(\"the shape of out text TFIDF vectorizer \",X_train_tfidf.get_shape())\n",
        "print(\"the number of unique words including both unigrams and bigrams \", X_train_tfidf.get_shape()[1])"
      ]
    },
    {
      "cell_type": "code",
      "execution_count": 126,
      "metadata": {
        "colab": {
          "base_uri": "https://localhost:8080/"
        },
        "id": "FdI9Vawn0gVY",
        "outputId": "a62a65ad-199c-4a6d-ed9a-40f06d3733ef"
      },
      "outputs": [
        {
          "output_type": "stream",
          "name": "stdout",
          "text": [
            "the shape of out text TFIDF vectorizer  (1142, 52939)\n"
          ]
        }
      ],
      "source": [
        "X_val_tfidf = tf_idf_vect.transform(X_val)\n",
        "print(\"the shape of out text TFIDF vectorizer \", X_val_tfidf.get_shape())"
      ]
    },
    {
      "cell_type": "markdown",
      "metadata": {
        "id": "CjbQndzg0gVY"
      },
      "source": [
        "### **W2v : Googel Pre-Trained Model**"
      ]
    },
    {
      "cell_type": "code",
      "execution_count": 26,
      "metadata": {
        "id": "9QwcSNF60gVY"
      },
      "outputs": [],
      "source": [
        "#!wget -c \"https://s3.amazonaws.com/dl4j-distribution/GoogleNews-vectors-negative300.bin.gz\"\n",
        "\n",
        "#!7za e ./GoogleNews-vectors-negative300.bin.gz"
      ]
    },
    {
      "cell_type": "code",
      "execution_count": 27,
      "metadata": {
        "id": "_ZDvF2pv0gVZ"
      },
      "outputs": [],
      "source": [
        "from gensim.models import KeyedVectors\n",
        "    \n",
        "w2v_model=KeyedVectors.load_word2vec_format('/content/drive/MyDrive/GoogleNews-vectors-negative300.bin', binary=True)"
      ]
    },
    {
      "cell_type": "code",
      "execution_count": 28,
      "metadata": {
        "colab": {
          "base_uri": "https://localhost:8080/"
        },
        "id": "Q9YrPZpO0gVZ",
        "outputId": "10009593-e1ea-4a18-e98c-39e6f78af9a7"
      },
      "outputs": [
        {
          "output_type": "stream",
          "name": "stdout",
          "text": [
            "sample words  ['</s>', 'in', 'for', 'that', 'is', 'on', '##', 'The', 'with', 'said', 'was', 'the', 'at', 'not', 'as', 'it', 'be', 'from', 'by', 'are', 'I', 'have', 'he', 'will', 'has', '####', 'his', 'an', 'this', 'or', 'their', 'who', 'they', 'but', '$', 'had', 'year', 'were', 'we', 'more', '###', 'up', 'been', 'you', 'its', 'one', 'about', 'would', 'which', 'out']\n"
          ]
        }
      ],
      "source": [
        "w2v_words = list(w2v_model.vocab)\n",
        "print(\"sample words \", w2v_words[0:50])"
      ]
    },
    {
      "cell_type": "markdown",
      "metadata": {
        "id": "-IV4dj1M222I"
      },
      "source": [
        "### **TFIDF weighted W2v**"
      ]
    },
    {
      "cell_type": "code",
      "execution_count": null,
      "metadata": {
        "id": "7yUtOSsO2ub4"
      },
      "outputs": [],
      "source": [
        "model = TfidfVectorizer()\n",
        "model.fit(X_train)\n",
        "# we are converting a dictionary with word as a key, and the idf as a value\n",
        "dictionary = dict(zip(model.get_feature_names_out(), list(model.idf_)))"
      ]
    },
    {
      "cell_type": "code",
      "execution_count": 30,
      "metadata": {
        "id": "C5J6cKu_3YO4"
      },
      "outputs": [],
      "source": [
        "# TF-IDF weighted Word2Vec\n",
        "\n",
        "def tf_idf_weighted_w2v(df):\n",
        "\n",
        "  tfidf_feat = model.get_feature_names_out()\n",
        "\n",
        "  tfidf_sent_vectors = []\n",
        "  row=0\n",
        "  for sent in tqdm(df):\n",
        "    sent_vec = np.zeros(50) \n",
        "    weight_sum =0\n",
        "    for word in sent:\n",
        "        if word in w2v_words and word in tfidf_feat:\n",
        "            vec = w2v_model.wv[word]\n",
        "            tf_idf = dictionary[word]*(sent.count(word)/len(sent))\n",
        "            sent_vec += (vec * tf_idf)\n",
        "            weight_sum += tf_idf\n",
        "    if weight_sum != 0:\n",
        "        sent_vec /= weight_sum\n",
        "    tfidf_sent_vectors.append(sent_vec)\n",
        "    row += 1\n",
        "\n",
        "  return tfidf_sent_vectors"
      ]
    },
    {
      "cell_type": "code",
      "execution_count": 31,
      "metadata": {
        "colab": {
          "base_uri": "https://localhost:8080/"
        },
        "id": "hIR87LcR3wdl",
        "outputId": "c921d1cd-220b-4180-e687-b941e791a06b"
      },
      "outputs": [
        {
          "output_type": "stream",
          "name": "stderr",
          "text": [
            "100%|██████████| 6471/6471 [2:22:12<00:00,  1.32s/it]\n"
          ]
        }
      ],
      "source": [
        "tfidf_sent_vectors_train =  tf_idf_weighted_w2v(X_train)"
      ]
    },
    {
      "cell_type": "code",
      "execution_count": 32,
      "metadata": {
        "id": "vfC2U7KgVphU",
        "colab": {
          "base_uri": "https://localhost:8080/"
        },
        "outputId": "692bfee3-aa56-406e-e278-5e608b4b255f"
      },
      "outputs": [
        {
          "output_type": "stream",
          "name": "stderr",
          "text": [
            "100%|██████████| 1142/1142 [25:01<00:00,  1.31s/it]\n"
          ]
        }
      ],
      "source": [
        "tfidf_sent_vectors_val = tf_idf_weighted_w2v(X_val)"
      ]
    },
    {
      "cell_type": "markdown",
      "metadata": {
        "id": "Hpu6Qy8itElG"
      },
      "source": [
        "**Modeling**"
      ]
    },
    {
      "cell_type": "code",
      "source": [
        "from sklearn.metrics import accuracy_score, classification_report, confusion_matrix\n",
        "from sklearn.model_selection import GridSearchCV\n",
        "from sklearn.naive_bayes import MultinomialNB"
      ],
      "metadata": {
        "id": "ZKc1MSpT2OpV"
      },
      "execution_count": 49,
      "outputs": []
    },
    {
      "cell_type": "markdown",
      "metadata": {
        "id": "SgUO3j78wJ3o"
      },
      "source": [
        "**MultinomialNB: Bag Of Words**"
      ]
    },
    {
      "cell_type": "code",
      "execution_count": 87,
      "metadata": {
        "id": "RJJidUopyr83"
      },
      "outputs": [],
      "source": [
        "params = {\n",
        "          'alpha': [0.01, 0.1, 0.5, 1.0, 10.0]\n",
        "         }"
      ]
    },
    {
      "cell_type": "code",
      "execution_count": 35,
      "metadata": {
        "id": "Mcn-NsiDwSd4",
        "colab": {
          "base_uri": "https://localhost:8080/"
        },
        "outputId": "71f78c3c-84a0-4a6a-aaa8-ce5a129f55f6"
      },
      "outputs": [
        {
          "output_type": "stream",
          "name": "stdout",
          "text": [
            "Fitting 5 folds for each of 5 candidates, totalling 25 fits\n"
          ]
        },
        {
          "output_type": "execute_result",
          "data": {
            "text/plain": [
              "GridSearchCV(cv=5, estimator=MultinomialNB(), n_jobs=-1,\n",
              "             param_grid={'alpha': [0.01, 0.1, 0.5, 1.0, 10.0]}, verbose=5)"
            ]
          },
          "metadata": {},
          "execution_count": 35
        }
      ],
      "source": [
        "clf = MultinomialNB()\n",
        "grid = GridSearchCV(clf, param_grid=params, n_jobs=-1, cv=5, verbose=5)\n",
        "grid.fit(X_train_bow, y_train)"
      ]
    },
    {
      "cell_type": "code",
      "execution_count": 36,
      "metadata": {
        "id": "kQcXtBnCwljz",
        "colab": {
          "base_uri": "https://localhost:8080/"
        },
        "outputId": "8e631ebf-32b0-4466-d163-01d5f9939dda"
      },
      "outputs": [
        {
          "output_type": "execute_result",
          "data": {
            "text/plain": [
              "{'alpha': 10.0}"
            ]
          },
          "metadata": {},
          "execution_count": 36
        }
      ],
      "source": [
        "grid.best_params_"
      ]
    },
    {
      "cell_type": "code",
      "execution_count": 89,
      "metadata": {
        "id": "Sde3Hv5bpZ2d",
        "colab": {
          "base_uri": "https://localhost:8080/"
        },
        "outputId": "d70614c7-dfd6-40e2-d8b4-6a5abe03d8bb"
      },
      "outputs": [
        {
          "output_type": "stream",
          "name": "stdout",
          "text": [
            "              precision    recall  f1-score   support\n",
            "\n",
            "           0       0.90      0.81      0.85       726\n",
            "           1       0.71      0.84      0.77       416\n",
            "\n",
            "    accuracy                           0.82      1142\n",
            "   macro avg       0.81      0.82      0.81      1142\n",
            "weighted avg       0.83      0.82      0.82      1142\n",
            "\n"
          ]
        }
      ],
      "source": [
        "clf = MultinomialNB(alpha=10).fit(X_train_bow,y_train)\n",
        "pred = clf.predict(X_val_bow)\n",
        "\n",
        "print(classification_report(pred,y_val))"
      ]
    },
    {
      "cell_type": "markdown",
      "metadata": {
        "id": "RxLdfcvatfoU"
      },
      "source": [
        "**MultinomialNB: BOW BI-GRAMS**"
      ]
    },
    {
      "cell_type": "code",
      "execution_count": 99,
      "metadata": {
        "id": "WqoDMG3itdiu",
        "colab": {
          "base_uri": "https://localhost:8080/"
        },
        "outputId": "6cef4290-3985-4343-f19e-32a967f3bec4"
      },
      "outputs": [
        {
          "output_type": "stream",
          "name": "stdout",
          "text": [
            "              precision    recall  f1-score   support\n",
            "\n",
            "           0       0.91      0.80      0.85       734\n",
            "           1       0.71      0.85      0.77       408\n",
            "\n",
            "    accuracy                           0.82      1142\n",
            "   macro avg       0.81      0.83      0.81      1142\n",
            "weighted avg       0.83      0.82      0.82      1142\n",
            "\n"
          ]
        }
      ],
      "source": [
        "clf = MultinomialNB(alpha=10).fit(X_train_bow_bigram,y_train)\n",
        "pred = clf.predict(X_val_bow_bigram)\n",
        "\n",
        "print(classification_report(pred,y_val))"
      ]
    },
    {
      "cell_type": "markdown",
      "metadata": {
        "id": "hQ4WDrunuMjB"
      },
      "source": [
        "**MultinomialNB: TF-IDF**"
      ]
    },
    {
      "cell_type": "code",
      "execution_count": 90,
      "metadata": {
        "id": "1lcGvEJqurnE",
        "colab": {
          "base_uri": "https://localhost:8080/"
        },
        "outputId": "d55f0383-4f7d-42d9-d625-05f2d3f9dca7"
      },
      "outputs": [
        {
          "output_type": "stream",
          "name": "stdout",
          "text": [
            "Fitting 5 folds for each of 5 candidates, totalling 25 fits\n"
          ]
        },
        {
          "output_type": "execute_result",
          "data": {
            "text/plain": [
              "GridSearchCV(cv=5, estimator=MultinomialNB(alpha=10), n_jobs=-1,\n",
              "             param_grid={'alpha': [0.01, 0.1, 0.5, 1.0, 10.0]}, verbose=5)"
            ]
          },
          "metadata": {},
          "execution_count": 90
        }
      ],
      "source": [
        "grid = GridSearchCV(clf, param_grid=params, n_jobs=-1, cv=5, verbose=5)\n",
        "grid.fit(X_train_tfidf, y_train)"
      ]
    },
    {
      "cell_type": "code",
      "execution_count": 91,
      "metadata": {
        "id": "acs2w7k6u28k",
        "colab": {
          "base_uri": "https://localhost:8080/"
        },
        "outputId": "4bbc5109-9eb1-4cd6-fc13-18b4fb1b8be5"
      },
      "outputs": [
        {
          "output_type": "execute_result",
          "data": {
            "text/plain": [
              "{'alpha': 0.5}"
            ]
          },
          "metadata": {},
          "execution_count": 91
        }
      ],
      "source": [
        "grid.best_params_"
      ]
    },
    {
      "cell_type": "code",
      "execution_count": 92,
      "metadata": {
        "id": "_RZUYwdguSQL",
        "colab": {
          "base_uri": "https://localhost:8080/"
        },
        "outputId": "02166e83-7c5b-4fb0-b5b6-1274e2e88836"
      },
      "outputs": [
        {
          "output_type": "stream",
          "name": "stdout",
          "text": [
            "              precision    recall  f1-score   support\n",
            "\n",
            "           0       0.92      0.79      0.85       757\n",
            "           1       0.68      0.87      0.76       385\n",
            "\n",
            "    accuracy                           0.82      1142\n",
            "   macro avg       0.80      0.83      0.81      1142\n",
            "weighted avg       0.84      0.82      0.82      1142\n",
            "\n"
          ]
        }
      ],
      "source": [
        "clf = MultinomialNB(alpha=0.5).fit(X_train_tfidf,y_train)\n",
        "pred = clf.predict(X_val_tfidf)\n",
        "\n",
        "print(classification_report(pred,y_val))"
      ]
    },
    {
      "cell_type": "markdown",
      "metadata": {
        "id": "UaOdX5dYvEqt"
      },
      "source": [
        "**MultinomialNB: TF-IDF W2V**"
      ]
    },
    {
      "cell_type": "code",
      "execution_count": 42,
      "metadata": {
        "id": "5hu0T0jYvpUy",
        "colab": {
          "base_uri": "https://localhost:8080/"
        },
        "outputId": "b6738ed6-20d7-4e70-c226-5b21ca779d11"
      },
      "outputs": [
        {
          "output_type": "stream",
          "name": "stdout",
          "text": [
            "Fitting 5 folds for each of 5 candidates, totalling 25 fits\n"
          ]
        },
        {
          "output_type": "execute_result",
          "data": {
            "text/plain": [
              "GridSearchCV(cv=5, estimator=MultinomialNB(alpha=1), n_jobs=-1,\n",
              "             param_grid={'alpha': [0.01, 0.1, 0.5, 1.0, 10.0]}, verbose=5)"
            ]
          },
          "metadata": {},
          "execution_count": 42
        }
      ],
      "source": [
        "grid = GridSearchCV(clf, param_grid=params, n_jobs=-1, cv=5, verbose=5)\n",
        "grid.fit(tfidf_sent_vectors_train, y_train)"
      ]
    },
    {
      "cell_type": "code",
      "execution_count": 44,
      "metadata": {
        "id": "-rZ8zMrHyJgA",
        "colab": {
          "base_uri": "https://localhost:8080/"
        },
        "outputId": "a3879bb6-5369-42ec-e4b5-f1ab5d2c8b57"
      },
      "outputs": [
        {
          "output_type": "stream",
          "name": "stdout",
          "text": [
            "              precision    recall  f1-score   support\n",
            "\n",
            "           0       1.00      0.57      0.73      1142\n",
            "           1       0.00      0.00      0.00         0\n",
            "\n",
            "    accuracy                           0.57      1142\n",
            "   macro avg       0.50      0.29      0.36      1142\n",
            "weighted avg       1.00      0.57      0.73      1142\n",
            "\n"
          ]
        },
        {
          "output_type": "stream",
          "name": "stderr",
          "text": [
            "/usr/local/lib/python3.7/dist-packages/sklearn/metrics/_classification.py:1318: UndefinedMetricWarning: Recall and F-score are ill-defined and being set to 0.0 in labels with no true samples. Use `zero_division` parameter to control this behavior.\n",
            "  _warn_prf(average, modifier, msg_start, len(result))\n",
            "/usr/local/lib/python3.7/dist-packages/sklearn/metrics/_classification.py:1318: UndefinedMetricWarning: Recall and F-score are ill-defined and being set to 0.0 in labels with no true samples. Use `zero_division` parameter to control this behavior.\n",
            "  _warn_prf(average, modifier, msg_start, len(result))\n",
            "/usr/local/lib/python3.7/dist-packages/sklearn/metrics/_classification.py:1318: UndefinedMetricWarning: Recall and F-score are ill-defined and being set to 0.0 in labels with no true samples. Use `zero_division` parameter to control this behavior.\n",
            "  _warn_prf(average, modifier, msg_start, len(result))\n"
          ]
        }
      ],
      "source": [
        "clf = MultinomialNB(alpha=0.01).fit(tfidf_sent_vectors_train,y_train)\n",
        "pred = clf.predict(tfidf_sent_vectors_val)\n",
        "\n",
        "print(classification_report(pred,y_val))"
      ]
    },
    {
      "cell_type": "markdown",
      "metadata": {
        "id": "XAGH9EOrzZtz"
      },
      "source": [
        "**XGBOOST TF-IDF BIGRAM**"
      ]
    },
    {
      "cell_type": "code",
      "execution_count": 47,
      "metadata": {
        "id": "DHd5xto8z5bN",
        "colab": {
          "base_uri": "https://localhost:8080/"
        },
        "outputId": "4934dcae-f4e2-4030-9891-86c1a8cd0ffa"
      },
      "outputs": [
        {
          "output_type": "stream",
          "name": "stdout",
          "text": [
            "Fitting 3 folds for each of 8 candidates, totalling 24 fits\n"
          ]
        },
        {
          "output_type": "execute_result",
          "data": {
            "text/plain": [
              "GridSearchCV(cv=3, estimator=XGBClassifier(), n_jobs=-1,\n",
              "             param_grid={'colsample_bytree': [0.7, 1],\n",
              "                         'learning_rate': [0.001, 0.01],\n",
              "                         'subsample': [0.7, 1]},\n",
              "             return_train_score=True, scoring='accuracy', verbose=2)"
            ]
          },
          "metadata": {},
          "execution_count": 47
        }
      ],
      "source": [
        "import xgboost as xgb\n",
        "\n",
        "params = {\n",
        "        'learning_rate':[0.001,0.01],\n",
        "        'colsample_bytree':[0.7,1],\n",
        "        'subsample':[0.7,1],\n",
        "          }\n",
        "        \n",
        "clf = xgb.XGBClassifier()          \n",
        "grid = GridSearchCV(clf,params,cv=3,scoring='accuracy',return_train_score=True,verbose=2,n_jobs=-1)\n",
        "grid.fit(X_train_tfidf, y_train)"
      ]
    },
    {
      "cell_type": "code",
      "source": [
        "grid.best_params_"
      ],
      "metadata": {
        "colab": {
          "base_uri": "https://localhost:8080/"
        },
        "id": "7Seg1a4P2R6u",
        "outputId": "fd662d36-bde5-4ded-fd6e-7d0401558287"
      },
      "execution_count": 50,
      "outputs": [
        {
          "output_type": "execute_result",
          "data": {
            "text/plain": [
              "{'colsample_bytree': 0.7, 'learning_rate': 0.01, 'subsample': 1}"
            ]
          },
          "metadata": {},
          "execution_count": 50
        }
      ]
    },
    {
      "cell_type": "code",
      "source": [
        "grid.best_score_"
      ],
      "metadata": {
        "colab": {
          "base_uri": "https://localhost:8080/"
        },
        "id": "-5Kuv3JE2T46",
        "outputId": "66793405-9c1d-49ea-ab96-f65223c54261"
      },
      "execution_count": 51,
      "outputs": [
        {
          "output_type": "execute_result",
          "data": {
            "text/plain": [
              "0.6396229330860764"
            ]
          },
          "metadata": {},
          "execution_count": 51
        }
      ]
    }
  ],
  "metadata": {
    "colab": {
      "collapsed_sections": [],
      "name": "Natural Language Processing with Disaster Tweets.ipynb",
      "provenance": []
    },
    "kernelspec": {
      "display_name": "Python 3",
      "language": "python",
      "name": "python3"
    },
    "language_info": {
      "codemirror_mode": {
        "name": "ipython",
        "version": 3
      },
      "file_extension": ".py",
      "mimetype": "text/x-python",
      "name": "python",
      "nbconvert_exporter": "python",
      "pygments_lexer": "ipython3",
      "version": "3.7.12"
    }
  },
  "nbformat": 4,
  "nbformat_minor": 0
}